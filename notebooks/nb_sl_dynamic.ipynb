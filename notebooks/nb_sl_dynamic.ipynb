{
 "cells": [
  {
   "cell_type": "code",
   "id": "initial_id",
   "metadata": {
    "collapsed": true,
    "ExecuteTime": {
     "end_time": "2025-04-24T18:31:09.288513Z",
     "start_time": "2025-04-24T18:31:09.256783Z"
    }
   },
   "source": [
    "import MetaTrader5 as mt5\n",
    "import pandas as pd\n",
    "\n",
    "def sl_dynamic():\n",
    "    positions = mt5.positions_get()\n",
    "\n",
    "    if positions is None or len(positions) == 0:\n",
    "        return None\n",
    "\n",
    "    df = pd.DataFrame(list(positions), columns=positions[0]._asdict().keys())\n",
    "    print(df)\n",
    "\n",
    "    lista_tickets = df['ticket'].to_list()\n",
    "\n",
    "    for ticket in lista_tickets:\n",
    "        print(ticket)\n",
    "\n",
    "    return lista_tickets\n"
   ],
   "outputs": [],
   "execution_count": 18
  },
  {
   "metadata": {
    "ExecuteTime": {
     "end_time": "2025-04-24T18:31:14.292432Z",
     "start_time": "2025-04-24T18:31:14.185074Z"
    }
   },
   "cell_type": "code",
   "source": [
    "mt5.initialize()\n",
    "sl_dynamic()\n",
    "mt5.shutdown()"
   ],
   "id": "1010359f8cb9c6a1",
   "outputs": [
    {
     "name": "stdout",
     "output_type": "stream",
     "text": [
      "       ticket        time       time_msc  time_update  time_update_msc  type  \\\n",
      "0  3684625892  1745529628  1745529628114   1745529628    1745529628114     0   \n",
      "1  3684632458  1745529730  1745529730910   1745529730    1745529730910     1   \n",
      "2  3684632672  1745529732  1745529732331   1745529732    1745529732331     0   \n",
      "3  3684632752  1745529733  1745529733426   1745529733    1745529733426     0   \n",
      "4  3684632889  1745529735  1745529735224   1745529735    1745529735224     1   \n",
      "5  3684632944  1745529735  1745529735761   1745529735    1745529735761     1   \n",
      "\n",
      "   magic  identifier  reason  volume  price_open   sl   tp  price_current  \\\n",
      "0      0  3684625892       0    0.01     142.763  0.0  0.0        142.784   \n",
      "1      0  3684632458       0    0.01     142.736  0.0  0.0        142.804   \n",
      "2      0  3684632672       0    0.01     142.757  0.0  0.0        142.784   \n",
      "3      0  3684632752       0    0.01     142.759  0.0  0.0        142.784   \n",
      "4      0  3684632889       0    0.01     142.738  0.0  0.0        142.804   \n",
      "5      0  3684632944       0    0.01     142.737  0.0  0.0        142.804   \n",
      "\n",
      "   swap  profit  symbol comment external_id  \n",
      "0   0.0    0.13  USDJPY                      \n",
      "1   0.0   -0.42  USDJPY                      \n",
      "2   0.0    0.17  USDJPY                      \n",
      "3   0.0    0.15  USDJPY                      \n",
      "4   0.0   -0.41  USDJPY                      \n",
      "5   0.0   -0.41  USDJPY                      \n",
      "3684625892\n",
      "3684632458\n",
      "3684632672\n",
      "3684632752\n",
      "3684632889\n",
      "3684632944\n"
     ]
    },
    {
     "data": {
      "text/plain": [
       "True"
      ]
     },
     "execution_count": 19,
     "metadata": {},
     "output_type": "execute_result"
    }
   ],
   "execution_count": 19
  },
  {
   "metadata": {},
   "cell_type": "markdown",
   "source": [
    "The function `sl_dynamic()` is not returning `True`. It's returning `None` because the return statement explicitly says `return None`. \n",
    "\n",
    "Let's modify the code to see what's happening with the positions:"
   ],
   "id": "5934a35fcbc9e4a5"
  },
  {
   "metadata": {},
   "cell_type": "code",
   "outputs": [],
   "execution_count": null,
   "source": [
    "def sl_dynamic():\n",
    "    positions = mt5.positions_get()\n",
    "\n",
    "    if positions is None or len(positions) == 0:\n",
    "        print(\"No open positions found\")\n",
    "        return None\n",
    "\n",
    "    df = pd.DataFrame(list(positions), columns=positions[0]._asdict().keys())\n",
    "    print(\"\\nOpen positions:\")\n",
    "    print(df)\n",
    "\n",
    "    lista_tickets = df['ticket'].to_list()\n",
    "    print(\"\\nTicket numbers:\", lista_tickets)\n",
    "\n",
    "    return None\n",
    "\n",
    "\n",
    "mt5.initialize()\n",
    "sl_dynamic()\n",
    "mt5.shutdown()"
   ],
   "id": "3ad85223c9d5ba86"
  },
  {
   "metadata": {},
   "cell_type": "markdown",
   "source": [
    "This will print:\n",
    "1. Whether there are any open positions\n",
    "2. The dataframe with position details if any exist\n",
    "3. The list of ticket numbers\n",
    "\n",
    "This way we can better understand what data we're working with.\n"
   ],
   "id": "ef1515f3fefded5"
  }
 ],
 "metadata": {
  "kernelspec": {
   "display_name": "Python 3",
   "language": "python",
   "name": "python3"
  },
  "language_info": {
   "codemirror_mode": {
    "name": "ipython",
    "version": 2
   },
   "file_extension": ".py",
   "mimetype": "text/x-python",
   "name": "python",
   "nbconvert_exporter": "python",
   "pygments_lexer": "ipython2",
   "version": "2.7.6"
  }
 },
 "nbformat": 4,
 "nbformat_minor": 5
}
