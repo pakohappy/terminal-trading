{
 "cells": [
  {
   "cell_type": "code",
   "id": "initial_id",
   "metadata": {
    "collapsed": true,
    "ExecuteTime": {
     "end_time": "2025-04-24T18:59:33.845074Z",
     "start_time": "2025-04-24T18:59:33.813186Z"
    }
   },
   "source": [
    "import MetaTrader5 as mt5\n",
    "import pandas as pd\n",
    "\n",
    "def sl_dynamic():\n",
    "    positions = mt5.positions_get()\n",
    "\n",
    "    if positions is None or len(positions) == 0:\n",
    "        return None\n",
    "\n",
    "    df = pd.DataFrame(list(positions), columns=positions[0]._asdict().keys())\n",
    "    #print(df)\n",
    "\n",
    "    lista_tickets = df['ticket'].to_list()\n",
    "\n",
    "    for ticket in lista_tickets:\n",
    "        posicion = mt5.positions_get(ticket=ticket)[0]\n",
    "\n",
    "        order_type = posicion.type\n",
    "        print(order_type)\n",
    "        price_current = posicion.price_current\n",
    "        print(price_current)\n",
    "\n",
    "        print(ticket)\n",
    "\n",
    "    return lista_tickets\n"
   ],
   "outputs": [],
   "execution_count": 27
  },
  {
   "metadata": {
    "ExecuteTime": {
     "end_time": "2025-04-24T18:59:36.866279Z",
     "start_time": "2025-04-24T18:59:36.805924Z"
    }
   },
   "cell_type": "code",
   "source": [
    "mt5.initialize()\n",
    "sl_dynamic()\n",
    "mt5.shutdown()"
   ],
   "id": "1010359f8cb9c6a1",
   "outputs": [
    {
     "name": "stdout",
     "output_type": "stream",
     "text": [
      "0\n",
      "142.714\n",
      "3684625892\n",
      "1\n",
      "142.734\n",
      "3684632458\n",
      "0\n",
      "142.714\n",
      "3684632672\n",
      "0\n",
      "142.714\n",
      "3684632752\n",
      "1\n",
      "142.734\n",
      "3684632889\n",
      "1\n",
      "142.734\n",
      "3684632944\n"
     ]
    },
    {
     "data": {
      "text/plain": [
       "True"
      ]
     },
     "execution_count": 28,
     "metadata": {},
     "output_type": "execute_result"
    }
   ],
   "execution_count": 28
  },
  {
   "metadata": {},
   "cell_type": "markdown",
   "source": [
    "The function `sl_dynamic()` is not returning `True`. It's returning `None` because the return statement explicitly says `return None`. \n",
    "\n",
    "Let's modify the code to see what's happening with the positions:"
   ],
   "id": "5934a35fcbc9e4a5"
  },
  {
   "metadata": {},
   "cell_type": "code",
   "outputs": [],
   "execution_count": null,
   "source": [
    "def sl_dynamic():\n",
    "    positions = mt5.positions_get()\n",
    "\n",
    "    if positions is None or len(positions) == 0:\n",
    "        print(\"No open positions found\")\n",
    "        return None\n",
    "\n",
    "    df = pd.DataFrame(list(positions), columns=positions[0]._asdict().keys())\n",
    "    print(\"\\nOpen positions:\")\n",
    "    print(df)\n",
    "\n",
    "    lista_tickets = df['ticket'].to_list()\n",
    "    print(\"\\nTicket numbers:\", lista_tickets)\n",
    "\n",
    "    return None\n",
    "\n",
    "\n",
    "mt5.initialize()\n",
    "sl_dynamic()\n",
    "mt5.shutdown()"
   ],
   "id": "3ad85223c9d5ba86"
  },
  {
   "metadata": {},
   "cell_type": "markdown",
   "source": [
    "This will print:\n",
    "1. Whether there are any open positions\n",
    "2. The dataframe with position details if any exist\n",
    "3. The list of ticket numbers\n",
    "\n",
    "This way we can better understand what data we're working with.\n"
   ],
   "id": "ef1515f3fefded5"
  }
 ],
 "metadata": {
  "kernelspec": {
   "display_name": "Python 3",
   "language": "python",
   "name": "python3"
  },
  "language_info": {
   "codemirror_mode": {
    "name": "ipython",
    "version": 2
   },
   "file_extension": ".py",
   "mimetype": "text/x-python",
   "name": "python",
   "nbconvert_exporter": "python",
   "pygments_lexer": "ipython2",
   "version": "2.7.6"
  }
 },
 "nbformat": 4,
 "nbformat_minor": 5
}
